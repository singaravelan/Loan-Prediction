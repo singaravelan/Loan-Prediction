{
 "cells": [
  {
   "cell_type": "code",
   "execution_count": 117,
   "metadata": {
    "collapsed": true
   },
   "outputs": [],
   "source": [
    "# import library pandas\n",
    "import pandas as pd\n",
    "import matplotlib.pyplot as plt\n",
    "import numpy as np\n",
    "from sklearn.preprocessing import LabelEncoder\n",
    "import sklearn.linear_model as sk\n",
    "import sklearn.tree\n",
    "\n"
   ]
  },
  {
   "cell_type": "code",
   "execution_count": 5,
   "metadata": {
    "collapsed": true
   },
   "outputs": [],
   "source": [
    "# Import testing data as test\n",
    "test = pd.read_csv(\"C:/Users/singi/OneDrive/Praxis/Praxis/Data-Projects/Loan Predition/test.csv\")\n",
    "train = pd.read_csv(\"https://s3-ap-southeast-1.amazonaws.com/av-datahack-datacamp/train.csv\")"
   ]
  },
  {
   "cell_type": "code",
   "execution_count": 8,
   "metadata": {},
   "outputs": [
    {
     "name": "stdout",
     "output_type": "stream",
     "text": [
      "    Loan_ID Gender Married Dependents     Education Self_Employed  \\\n",
      "0  LP001002   Male      No          0      Graduate            No   \n",
      "1  LP001003   Male     Yes          1      Graduate            No   \n",
      "2  LP001005   Male     Yes          0      Graduate           Yes   \n",
      "3  LP001006   Male     Yes          0  Not Graduate            No   \n",
      "4  LP001008   Male      No          0      Graduate            No   \n",
      "\n",
      "   ApplicantIncome  CoapplicantIncome  LoanAmount  Loan_Amount_Term  \\\n",
      "0             5849                0.0         NaN             360.0   \n",
      "1             4583             1508.0       128.0             360.0   \n",
      "2             3000                0.0        66.0             360.0   \n",
      "3             2583             2358.0       120.0             360.0   \n",
      "4             6000                0.0       141.0             360.0   \n",
      "\n",
      "   Credit_History Property_Area Loan_Status  \n",
      "0             1.0         Urban           Y  \n",
      "1             1.0         Rural           N  \n",
      "2             1.0         Urban           Y  \n",
      "3             1.0         Urban           Y  \n",
      "4             1.0         Urban           Y  \n"
     ]
    }
   ],
   "source": [
    "# Print top 5 observation of train dataset\n",
    "print (train.head() )\n",
    "\n",
    "# Store total number of observation in training dataset\n",
    "train_length = len (train)"
   ]
  },
  {
   "cell_type": "code",
   "execution_count": 56,
   "metadata": {},
   "outputs": [
    {
     "name": "stdout",
     "output_type": "stream",
     "text": [
      "       ApplicantIncome  CoapplicantIncome  LoanAmount  Loan_Amount_Term  \\\n",
      "count       367.000000         367.000000  367.000000        367.000000   \n",
      "mean       4805.599455        1569.577657  136.130790        336.953678   \n",
      "std        4910.685399        2334.232099   60.946042         77.825365   \n",
      "min           0.000000           0.000000   28.000000          1.000000   \n",
      "25%        2864.000000           0.000000  101.000000        360.000000   \n",
      "50%        3786.000000        1025.000000  126.000000        360.000000   \n",
      "75%        5060.000000        2430.500000  157.500000        360.000000   \n",
      "max       72529.000000       24000.000000  550.000000        480.000000   \n",
      "\n",
      "       Credit_History  \n",
      "count      367.000000  \n",
      "mean         0.839237  \n",
      "std          0.367814  \n",
      "min          0.000000  \n",
      "25%          1.000000  \n",
      "50%          1.000000  \n",
      "75%          1.000000  \n",
      "max          1.000000  \n"
     ]
    }
   ],
   "source": [
    "# Look at the summary of numerical variables for train data set\n",
    "df= test.describe()\n",
    "print (df)"
   ]
  },
  {
   "cell_type": "code",
   "execution_count": 14,
   "metadata": {},
   "outputs": [
    {
     "name": "stdout",
     "output_type": "stream",
     "text": [
      "Semiurban    233\n",
      "Urban        202\n",
      "Rural        179\n",
      "Name: Property_Area, dtype: int64\n"
     ]
    },
    {
     "data": {
      "image/png": "[encoded data removed]",
      "text/plain": [
       "<matplotlib.figure.Figure at 0x1789d086e10>"
      ]
     },
     "metadata": {},
     "output_type": "display_data"
    },
    {
     "data": {
      "text/plain": [
       "<matplotlib.axes._subplots.AxesSubplot at 0x1789d2b7c18>"
      ]
     },
     "execution_count": 14,
     "metadata": {},
     "output_type": "execute_result"
    }
   ],
   "source": [
    "# Print the unique values and their frequency of variable Property_Area\n",
    "df1=train.Property_Area.value_counts()\n",
    "print (df1)\n",
    "\n",
    "plt.show()\n",
    "train.LoanAmount.hist()\n"
   ]
  },
  {
   "cell_type": "code",
   "execution_count": 17,
   "metadata": {},
   "outputs": [
    {
     "data": {
      "image/png": "[encoded data removed]",
      "text/plain": [
       "<matplotlib.figure.Figure at 0x1789d4d7860>"
      ]
     },
     "metadata": {},
     "output_type": "display_data"
    },
    {
     "data": {
      "text/plain": [
       "<matplotlib.axes._subplots.AxesSubplot at 0x1789d8de240>"
      ]
     },
     "execution_count": 17,
     "metadata": {},
     "output_type": "execute_result"
    }
   ],
   "source": [
    "# Plot a box plot for variable LoanAmount by variable Gender of training data set\n",
    "plt.show()\n",
    "train.boxplot(column='LoanAmount', by = 'Gender')"
   ]
  },
  {
   "cell_type": "code",
   "execution_count": 20,
   "metadata": {},
   "outputs": [
    {
     "name": "stdout",
     "output_type": "stream",
     "text": [
      "422\n"
     ]
    }
   ],
   "source": [
    "# Approved Loan in absolute numbers\n",
    "loan_approval = train['Loan_Status'].value_counts()['Y']\n",
    "print (loan_approval)"
   ]
  },
  {
   "cell_type": "code",
   "execution_count": 22,
   "metadata": {},
   "outputs": [
    {
     "name": "stdout",
     "output_type": "stream",
     "text": [
      "Loan_Status       N    Y  All\n",
      "Credit_History               \n",
      "0.0              82    7   89\n",
      "1.0              97  378  475\n",
      "All             179  385  564\n"
     ]
    }
   ],
   "source": [
    "# Two-way comparison: Credit History and Loan Status\n",
    "twowaytable = pd.crosstab(train [\"Credit_History\"], train [\"Loan_Status\"], margins=True)\n",
    "print (twowaytable)"
   ]
  },
  {
   "cell_type": "code",
   "execution_count": 25,
   "metadata": {
    "collapsed": true
   },
   "outputs": [],
   "source": [
    "# How many missing values in variable \"Self_Employed\" ?\n",
    "n_missing_value_Self_Employed = train['Self_Employed'].isnull().sum()"
   ]
  },
  {
   "cell_type": "code",
   "execution_count": 27,
   "metadata": {
    "collapsed": true
   },
   "outputs": [],
   "source": [
    "# Variable Loan amount has missing values or not?\n",
    "LoanAmount_have_missing_value = train['LoanAmount'].isnull().sum() > 0"
   ]
  },
  {
   "cell_type": "code",
   "execution_count": 124,
   "metadata": {},
   "outputs": [
    {
     "name": "stdout",
     "output_type": "stream",
     "text": [
      "Loan_ID              0\n",
      "Gender               0\n",
      "Married              0\n",
      "Dependents           0\n",
      "Education            0\n",
      "Self_Employed        0\n",
      "ApplicantIncome      0\n",
      "CoapplicantIncome    0\n",
      "LoanAmount           0\n",
      "Loan_Amount_Term     0\n",
      "Credit_History       0\n",
      "Property_Area        0\n",
      "Loan_Status          0\n",
      "dtype: int64\n"
     ]
    }
   ],
   "source": [
    "# Check variables have missing values in test data set\n",
    "number_missing_values_test_data = train.isnull().sum()\n",
    "print(number_missing_values_test_data)\n"
   ]
  },
  {
   "cell_type": "code",
   "execution_count": 123,
   "metadata": {},
   "outputs": [],
   "source": [
    "# Impute missing value of LoanAmount with 168 for test data set\n",
    "train['LoanAmount'].fillna(round(test['LoanAmount'].mean()), inplace=True)\n",
    "\n",
    "# Impute missing value of LoanAmount with median for test data set\n",
    "train['Gender'].fillna('Male',inplace=True)\n",
    "\n",
    "\n",
    "train['Married'].fillna(1,inplace=True)\n",
    "\n",
    "# Impute missing value of Credit_History\n",
    "train['Credit_History'].fillna(1,inplace=True)\n",
    "\n",
    "train['Dependents'].fillna(1,inplace=True)\n",
    "\n",
    "train['Loan_Amount_Term'].fillna(1,inplace=True)\n",
    "\n",
    "train['Self_Employed'].fillna('No',inplace=True)"
   ]
  },
  {
   "cell_type": "code",
   "execution_count": 126,
   "metadata": {},
   "outputs": [
    {
     "name": "stdout",
     "output_type": "stream",
     "text": [
      "    Loan_ID Gender Married Dependents     Education Self_Employed  \\\n",
      "0  LP001002   Male      No          0      Graduate            No   \n",
      "1  LP001003   Male     Yes          1      Graduate            No   \n",
      "2  LP001005   Male     Yes          0      Graduate           Yes   \n",
      "3  LP001006   Male     Yes          0  Not Graduate            No   \n",
      "4  LP001008   Male      No          0      Graduate            No   \n",
      "5  LP001011   Male     Yes          2      Graduate           Yes   \n",
      "6  LP001013   Male     Yes          0  Not Graduate            No   \n",
      "7  LP001014   Male     Yes         3+      Graduate            No   \n",
      "8  LP001018   Male     Yes          2      Graduate            No   \n",
      "9  LP001020   Male     Yes          1      Graduate            No   \n",
      "\n",
      "   ApplicantIncome  CoapplicantIncome  LoanAmount  Loan_Amount_Term  \\\n",
      "0             5849                0.0       136.0             360.0   \n",
      "1             4583             1508.0       128.0             360.0   \n",
      "2             3000                0.0        66.0             360.0   \n",
      "3             2583             2358.0       120.0             360.0   \n",
      "4             6000                0.0       141.0             360.0   \n",
      "5             5417             4196.0       267.0             360.0   \n",
      "6             2333             1516.0        95.0             360.0   \n",
      "7             3036             2504.0       158.0             360.0   \n",
      "8             4006             1526.0       168.0             360.0   \n",
      "9            12841            10968.0       349.0             360.0   \n",
      "\n",
      "   Credit_History Property_Area Loan_Status  TotalIncome  TotalIncome_log  \n",
      "0             1.0         Urban           Y       5849.0         8.674026  \n",
      "1             1.0         Rural           N       6091.0         8.714568  \n",
      "2             1.0         Urban           Y       3000.0         8.006368  \n",
      "3             1.0         Urban           Y       4941.0         8.505323  \n",
      "4             1.0         Urban           Y       6000.0         8.699515  \n",
      "5             1.0         Urban           Y       9613.0         9.170872  \n",
      "6             1.0         Urban           Y       3849.0         8.255569  \n",
      "7             0.0     Semiurban           N       5540.0         8.619750  \n",
      "8             1.0         Urban           Y       5532.0         8.618305  \n",
      "9             1.0     Semiurban           N      23809.0        10.077819  \n"
     ]
    }
   ],
   "source": [
    "# Training and Testing datasets are loaded in variable train and test dataframe respectively\n",
    "\n",
    "# Add both ApplicantIncome and CoapplicantIncome to TotalIncome\n",
    "train['TotalIncome'] = train['ApplicantIncome'] + train['CoapplicantIncome']\n",
    "\n",
    "# Perform log transformation of TotalIncome to make it closer to normal\n",
    "train['TotalIncome_log']= np.log(train['TotalIncome'])\n",
    "\n",
    "# Add both ApplicantIncome and CoapplicantIncome to TotalIncome\n",
    "test['TotalIncome'] = test['ApplicantIncome'] + test['CoapplicantIncome']\n",
    "\n",
    "# Perform log transformation of TotalIncome to make it closer to normal\n",
    "test['TotalIncome_log']= np.log(test['TotalIncome'])\n",
    "print(train.head(10))"
   ]
  },
  {
   "cell_type": "code",
   "execution_count": 133,
   "metadata": {},
   "outputs": [],
   "source": [
    "number = LabelEncoder()\n",
    "\n",
    "train['Loan_Status'] = number.fit_transform(train['Loan_Status'].astype(str))\n",
    "\n",
    "train['Loan_Status'] = number.fit_transform(train['Loan_Status'].astype(str))\n",
    "\n",
    "test['Education'] = number.fit_transform(test['Education'].astype(str))\n",
    "\n",
    "\n"
   ]
  },
  {
   "cell_type": "code",
   "execution_count": 134,
   "metadata": {},
   "outputs": [
    {
     "name": "stdout",
     "output_type": "stream",
     "text": [
      "[1 1 1 1 1 1 1 0 1 1 1 1 1 0 1 1 1 1 1 1 1 1 1 1 1 0 1 1 1 1 1 1 1 1 1 0 1\n",
      " 1 1 1 1 1 1 1 1 1 1 1 1 1 1 1 1 1 1 0 1 1 0 1 1 1 1 0 1 1 0 0 1 0 1 1 1 1\n",
      " 1 1 1 1 1 1 0 1 0 1 0 1 1 1 1 1 1 1 1 1 0 1 1 1 1 1 1 0 1 1 1 1 0 1 1 1 1\n",
      " 1 1 1 1 1 1 0 0 0 1 1 1 0 0 1 0 1 1 1 1 1 1 1 1 1 1 1 1 1 0 1 0 1 1 1 1 0\n",
      " 1 1 1 1 1 0 1 1 1 1 1 1 1 0 1 1 1 0 0 1 0 1 1 1 1 0 0 1 1 1 1 1 1 1 1 1 1\n",
      " 1 1 1 1 1 1 1 0 0 1 1 0 1 0 1 1 1 1 1 1 1 1 1 1 1 1 0 1 1 1 1 1 1 1 1 1 1\n",
      " 1 1 0 1 1 1 1 0 1 1 1 1 1 0 0 1 1 1 1 0 1 0 1 0 1 1 1 1 0 1 1 1 1 0 1 1 1\n",
      " 1 1 1 1 1 1 1 0 1 0 1 1 1 1 0 0 1 1 1 0 1 1 1 1 1 1 1 1 1 1 1 1 1 1 0 1 1\n",
      " 1 1 1 1 1 0 1 1 1 1 1 1 1 1 1 0 1 1 1 1 1 0 1 1 1 1 1 1 1 0 1 1 1 1 1 1 1\n",
      " 1 1 1 1 1 1 0 1 1 1 1 1 1 0 1 1 1 1 1 1 1 0 1 1 1 1 1 1 1 1 1 1 1 1]\n",
      "['1' '1' '1' '1' '1' '1' '1' '0' '1' '1' '1' '1' '1' '0' '1' '1' '1' '1'\n",
      " '1' '1' '1' '1' '1' '1' '1' '0' '1' '1' '1' '1' '1' '1' '1' '1' '1' '0'\n",
      " '1' '1' '1' '1' '1' '1' '1' '1' '1' '1' '1' '1' '1' '1' '1' '1' '1' '1'\n",
      " '1' '0' '1' '1' '0' '1' '1' '1' '1' '0' '1' '1' '0' '0' '1' '0' '1' '1'\n",
      " '1' '1' '1' '1' '1' '1' '1' '1' '0' '1' '0' '1' '0' '1' '1' '1' '1' '1'\n",
      " '1' '1' '1' '1' '0' '1' '1' '1' '1' '1' '1' '0' '1' '1' '1' '1' '0' '1'\n",
      " '1' '1' '1' '1' '1' '1' '1' '1' '1' '0' '0' '0' '1' '1' '1' '0' '0' '1'\n",
      " '0' '1' '1' '1' '1' '1' '1' '1' '1' '1' '1' '1' '1' '1' '0' '1' '0' '1'\n",
      " '1' '1' '1' '0' '1' '1' '1' '1' '1' '0' '1' '1' '1' '1' '1' '1' '1' '0'\n",
      " '1' '1' '1' '0' '0' '1' '0' '1' '1' '1' '1' '0' '0' '1' '1' '1' '1' '1'\n",
      " '1' '1' '1' '1' '1' '1' '1' '1' '1' '1' '1' '1' '0' '0' '1' '1' '0' '1'\n",
      " '0' '1' '1' '1' '1' '1' '1' '1' '1' '1' '1' '1' '1' '0' '1' '1' '1' '1'\n",
      " '1' '1' '1' '1' '1' '1' '1' '1' '0' '1' '1' '1' '1' '0' '1' '1' '1' '1'\n",
      " '1' '0' '0' '1' '1' '1' '1' '0' '1' '0' '1' '0' '1' '1' '1' '1' '0' '1'\n",
      " '1' '1' '1' '0' '1' '1' '1' '1' '1' '1' '1' '1' '1' '1' '0' '1' '0' '1'\n",
      " '1' '1' '1' '0' '0' '1' '1' '1' '0' '1' '1' '1' '1' '1' '1' '1' '1' '1'\n",
      " '1' '1' '1' '1' '1' '0' '1' '1' '1' '1' '1' '1' '1' '0' '1' '1' '1' '1'\n",
      " '1' '1' '1' '1' '1' '0' '1' '1' '1' '1' '1' '0' '1' '1' '1' '1' '1' '1'\n",
      " '1' '0' '1' '1' '1' '1' '1' '1' '1' '1' '1' '1' '1' '1' '1' '0' '1' '1'\n",
      " '1' '1' '1' '1' '0' '1' '1' '1' '1' '1' '1' '1' '0' '1' '1' '1' '1' '1'\n",
      " '1' '1' '1' '1' '1' '1' '1']\n",
      "    Loan_ID  Gender  Married Dependents  Education  Self_Employed  \\\n",
      "0  LP001015       1        1          0          0              1   \n",
      "1  LP001022       1        1          1          0              1   \n",
      "2  LP001031       1        1          2          0              1   \n",
      "3  LP001035       1        1          2          0              1   \n",
      "4  LP001051       1        0          0          1              1   \n",
      "5  LP001054       1        1          0          1              2   \n",
      "6  LP001055       0        0          1          1              1   \n",
      "7  LP001056       1        1          2          1              1   \n",
      "8  LP001059       1        1          2          0              0   \n",
      "9  LP001067       1        0          0          1              1   \n",
      "\n",
      "   ApplicantIncome  CoapplicantIncome  LoanAmount  Loan_Amount_Term  \\\n",
      "0             5720                  0       110.0             360.0   \n",
      "1             3076               1500       126.0             360.0   \n",
      "2             5000               1800       208.0             360.0   \n",
      "3             2340               2546       100.0             360.0   \n",
      "4             3276                  0        78.0             360.0   \n",
      "5             2165               3422       152.0             360.0   \n",
      "6             2226                  0        59.0             360.0   \n",
      "7             3881                  0       147.0             360.0   \n",
      "8            13633                  0       280.0             240.0   \n",
      "9             2400               2400       123.0             360.0   \n",
      "\n",
      "   Credit_History Property_Area  TotalIncome  TotalIncome_log Loan_Status  \n",
      "0             1.0         Urban         5720         8.651724           1  \n",
      "1             1.0         Urban         4576         8.428581           1  \n",
      "2             1.0         Urban         6800         8.824678           1  \n",
      "3             1.0         Urban         4886         8.494129           1  \n",
      "4             1.0         Urban         3276         8.094378           1  \n",
      "5             1.0         Urban         5587         8.628198           1  \n",
      "6             1.0     Semiurban         2226         7.707962           1  \n",
      "7             0.0         Rural         3881         8.263848           0  \n",
      "8             1.0         Urban        13633         9.520249           1  \n",
      "9             1.0     Semiurban         4800         8.476371           1  \n"
     ]
    }
   ],
   "source": [
    "#Building a model\n",
    "train_modified = train.copy()\n",
    "test_modified = test.copy()\n",
    "# Select three predictors Credit_History, Education and Gender\n",
    "predictors =['Credit_History','Education','Gender']\n",
    "\n",
    "# Converting predictors and outcome to numpy array\n",
    "x_train = train_modified[predictors].values\n",
    "y_train = train_modified['Loan_Status'].values\n",
    "\n",
    "# Model Building\n",
    "model=sk.LogisticRegression()\n",
    "model.fit(x_train, y_train)\n",
    "\n",
    "\n",
    "# Select three predictors Credit_History, Education and Gender\n",
    "predictors =['Credit_History','Education','Gender']\n",
    "\n",
    "# Converting predictors and outcome to numpy array\n",
    "x_test = test_modified[predictors].values\n",
    "\n",
    "#Predict Output\n",
    "predicted1= model.predict(x_test)\n",
    "print (predicted1)\n",
    "#Reverse encoding for predicted outcome\n",
    "predicted1 = number.inverse_transform(predicted1)\n",
    "print (predicted1)\n",
    "#Store it to test dataset\n",
    "test_modified['Loan_Status']=predicted1\n",
    "\n",
    "print(test_modified.head(10))\n",
    "\n",
    "\n"
   ]
  },
  {
   "cell_type": "code",
   "execution_count": 135,
   "metadata": {},
   "outputs": [
    {
     "ename": "PermissionError",
     "evalue": "[Errno 13] Permission denied: 'Submission1.csv'",
     "output_type": "error",
     "traceback": [
      "\u001b[1;31m---------------------------------------------------------------------------\u001b[0m",
      "\u001b[1;31mPermissionError\u001b[0m                           Traceback (most recent call last)",
      "\u001b[1;32m<ipython-input-135-6e0efadcff44>\u001b[0m in \u001b[0;36m<module>\u001b[1;34m()\u001b[0m\n\u001b[1;32m----> 1\u001b[1;33m \u001b[0mtest_modified\u001b[0m\u001b[1;33m.\u001b[0m\u001b[0mto_csv\u001b[0m\u001b[1;33m(\u001b[0m\u001b[1;34m\"Submission1.csv\"\u001b[0m\u001b[1;33m,\u001b[0m\u001b[0mcolumns\u001b[0m\u001b[1;33m=\u001b[0m\u001b[1;33m[\u001b[0m\u001b[1;34m'Loan_ID'\u001b[0m\u001b[1;33m,\u001b[0m\u001b[1;34m'Loan_Status'\u001b[0m\u001b[1;33m]\u001b[0m\u001b[1;33m)\u001b[0m\u001b[1;33m\u001b[0m\u001b[0m\n\u001b[0m",
      "\u001b[1;32mC:\\Users\\singi\\Anaconda3\\lib\\site-packages\\pandas\\core\\frame.py\u001b[0m in \u001b[0;36mto_csv\u001b[1;34m(self, path_or_buf, sep, na_rep, float_format, columns, header, index, index_label, mode, encoding, compression, quoting, quotechar, line_terminator, chunksize, tupleize_cols, date_format, doublequote, escapechar, decimal)\u001b[0m\n\u001b[0;32m   1411\u001b[0m                                      \u001b[0mdoublequote\u001b[0m\u001b[1;33m=\u001b[0m\u001b[0mdoublequote\u001b[0m\u001b[1;33m,\u001b[0m\u001b[1;33m\u001b[0m\u001b[0m\n\u001b[0;32m   1412\u001b[0m                                      escapechar=escapechar, decimal=decimal)\n\u001b[1;32m-> 1413\u001b[1;33m         \u001b[0mformatter\u001b[0m\u001b[1;33m.\u001b[0m\u001b[0msave\u001b[0m\u001b[1;33m(\u001b[0m\u001b[1;33m)\u001b[0m\u001b[1;33m\u001b[0m\u001b[0m\n\u001b[0m\u001b[0;32m   1414\u001b[0m \u001b[1;33m\u001b[0m\u001b[0m\n\u001b[0;32m   1415\u001b[0m         \u001b[1;32mif\u001b[0m \u001b[0mpath_or_buf\u001b[0m \u001b[1;32mis\u001b[0m \u001b[1;32mNone\u001b[0m\u001b[1;33m:\u001b[0m\u001b[1;33m\u001b[0m\u001b[0m\n",
      "\u001b[1;32mC:\\Users\\singi\\Anaconda3\\lib\\site-packages\\pandas\\io\\formats\\format.py\u001b[0m in \u001b[0;36msave\u001b[1;34m(self)\u001b[0m\n\u001b[0;32m   1566\u001b[0m             f, handles = _get_handle(self.path_or_buf, self.mode,\n\u001b[0;32m   1567\u001b[0m                                      \u001b[0mencoding\u001b[0m\u001b[1;33m=\u001b[0m\u001b[0mself\u001b[0m\u001b[1;33m.\u001b[0m\u001b[0mencoding\u001b[0m\u001b[1;33m,\u001b[0m\u001b[1;33m\u001b[0m\u001b[0m\n\u001b[1;32m-> 1568\u001b[1;33m                                      compression=self.compression)\n\u001b[0m\u001b[0;32m   1569\u001b[0m             \u001b[0mclose\u001b[0m \u001b[1;33m=\u001b[0m \u001b[1;32mTrue\u001b[0m\u001b[1;33m\u001b[0m\u001b[0m\n\u001b[0;32m   1570\u001b[0m \u001b[1;33m\u001b[0m\u001b[0m\n",
      "\u001b[1;32mC:\\Users\\singi\\Anaconda3\\lib\\site-packages\\pandas\\io\\common.py\u001b[0m in \u001b[0;36m_get_handle\u001b[1;34m(path_or_buf, mode, encoding, compression, memory_map, is_text)\u001b[0m\n\u001b[0;32m    380\u001b[0m         \u001b[1;32melif\u001b[0m \u001b[0mis_text\u001b[0m\u001b[1;33m:\u001b[0m\u001b[1;33m\u001b[0m\u001b[0m\n\u001b[0;32m    381\u001b[0m             \u001b[1;31m# Python 3 and no explicit encoding\u001b[0m\u001b[1;33m\u001b[0m\u001b[1;33m\u001b[0m\u001b[0m\n\u001b[1;32m--> 382\u001b[1;33m             \u001b[0mf\u001b[0m \u001b[1;33m=\u001b[0m \u001b[0mopen\u001b[0m\u001b[1;33m(\u001b[0m\u001b[0mpath_or_buf\u001b[0m\u001b[1;33m,\u001b[0m \u001b[0mmode\u001b[0m\u001b[1;33m,\u001b[0m \u001b[0merrors\u001b[0m\u001b[1;33m=\u001b[0m\u001b[1;34m'replace'\u001b[0m\u001b[1;33m)\u001b[0m\u001b[1;33m\u001b[0m\u001b[0m\n\u001b[0m\u001b[0;32m    383\u001b[0m         \u001b[1;32melse\u001b[0m\u001b[1;33m:\u001b[0m\u001b[1;33m\u001b[0m\u001b[0m\n\u001b[0;32m    384\u001b[0m             \u001b[1;31m# Python 3 and binary mode\u001b[0m\u001b[1;33m\u001b[0m\u001b[1;33m\u001b[0m\u001b[0m\n",
      "\u001b[1;31mPermissionError\u001b[0m: [Errno 13] Permission denied: 'Submission1.csv'"
     ]
    }
   ],
   "source": [
    "test_modified.to_csv(\"Submission1.csv\",columns=['Loan_ID','Loan_Status'])"
   ]
  },
  {
   "cell_type": "code",
   "execution_count": 158,
   "metadata": {},
   "outputs": [],
   "source": [
    "\n",
    "#Tree method\n",
    "\n",
    "# Select three predictors Credit_History, Education and Gender\n",
    "predictors =['Credit_History','Education','Gender']\n",
    "\n",
    "# Converting predictors and outcome to numpy array\n",
    "x_train = train_modified[predictors].values\n",
    "y_train = train_modified['Loan_Status'].values\n",
    "\n",
    "# Model Building\n",
    "model = sklearn.tree.DecisionTreeClassifier()\n",
    "model.fit(x_train, y_train)\n",
    "\n",
    "# Converting predictors and outcome to numpy array\n",
    "x_test = test_modified[predictors].values\n",
    "\n",
    "#Predict Output\n",
    "predicted= model.predict(x_test)\n",
    "\n",
    "#Reverse encoding for predicted outcome\n",
    "predicted = number.inverse_transform(predicted)\n",
    "\n",
    "#Store it to test dataset\n",
    "test_modified['Loan_Status']=predicted\n",
    "#data['sex'].replace(0, 'Female',inplace=True)\n",
    "#data['sex'].replace([0,1],['Female','Male'],inplace=True)\n",
    "test_modified['Loan_Status'].replace([0,1],['N','Y'],inplace=True)\n",
    "\n",
    "\n",
    "#Output file to make submission\n",
    "test_modified.to_csv(\"Submission2.csv\",columns=['Loan_ID','Loan_Status'], index = False)\n",
    "\n"
   ]
  },
  {
   "cell_type": "code",
   "execution_count": 166,
   "metadata": {},
   "outputs": [
    {
     "name": "stdout",
     "output_type": "stream",
     "text": [
      "0    1\n",
      "1    1\n",
      "2    1\n",
      "3    1\n",
      "4    1\n",
      "5    1\n",
      "6    1\n",
      "7    0\n",
      "8    1\n",
      "9    1\n",
      "Name: Loan_Status, dtype: object\n"
     ]
    }
   ],
   "source": [
    "test_modified['Loan_Status'].astype(str)\n",
    "test_modified['Loan_Status'].replace({0:'N',1:'Y'},inplace=True)\n",
    "\n",
    "print (test_modified['Loan_Status'].head(10))"
   ]
  }
 ],
 "metadata": {
  "kernelspec": {
   "display_name": "Python 3",
   "language": "python",
   "name": "python3"
  },
  "language_info": {
   "codemirror_mode": {
    "name": "ipython",
    "version": 3
   },
   "file_extension": ".py",
   "mimetype": "text/x-python",
   "name": "python",
   "nbconvert_exporter": "python",
   "pygments_lexer": "ipython3",
   "version": "3.6.1"
  }
 },
 "nbformat": 4,
 "nbformat_minor": 2
}
